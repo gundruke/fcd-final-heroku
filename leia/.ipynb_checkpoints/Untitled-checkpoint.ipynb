{
 "cells": [
  {
   "cell_type": "code",
   "execution_count": 1,
   "id": "23aa952d-acbd-475d-91d4-035dde2c4539",
   "metadata": {},
   "outputs": [],
   "source": [
    "from leia import SentimentIntensityAnalyzer as SentimentPT\n",
    "\n",
    "s = SentimentPT()"
   ]
  },
  {
   "cell_type": "code",
   "execution_count": 2,
   "id": "e1a5cdf8-b531-4a8d-bc0d-9a7e49ab9b1e",
   "metadata": {},
   "outputs": [
    {
     "data": {
      "text/plain": [
       "{'neg': 0.0, 'neu': 0.328, 'pos': 0.672, 'compound': 0.6249}"
      ]
     },
     "execution_count": 2,
     "metadata": {},
     "output_type": "execute_result"
    }
   ],
   "source": [
    "s.polarity_scores('Eu estou feliz')\n",
    "#{'neg': 0.0, 'neu': 0.328, 'pos': 0.672, 'compound': 0.6249}"
   ]
  },
  {
   "cell_type": "code",
   "execution_count": 3,
   "id": "70db39d4-4372-45c4-8071-8636771a4c97",
   "metadata": {},
   "outputs": [
    {
     "data": {
      "text/plain": [
       "{'neg': 0.0, 'neu': 0.22, 'pos': 0.78, 'compound': 0.7964}"
      ]
     },
     "execution_count": 3,
     "metadata": {},
     "output_type": "execute_result"
    }
   ],
   "source": [
    "s.polarity_scores('Eu estou feliz :)')\n",
    "#{'neg': 0.0, 'neu': 0.22, 'pos': 0.78, 'compound': 0.7964}"
   ]
  },
  {
   "cell_type": "code",
   "execution_count": 4,
   "id": "7f62b475-0552-43e7-bdcd-881b8b77e5a3",
   "metadata": {},
   "outputs": [
    {
     "data": {
      "text/plain": [
       "{'neg': 0.265, 'neu': 0.241, 'pos': 0.494, 'compound': 0.4404}"
      ]
     },
     "execution_count": 4,
     "metadata": {},
     "output_type": "execute_result"
    }
   ],
   "source": [
    "s.polarity_scores('Eu não estou feliz')\n",
    "#{'neg': 0.265, 'neu': 0.241, 'pos': 0.494, 'compound': 0.4404}"
   ]
  },
  {
   "cell_type": "code",
   "execution_count": null,
   "id": "e23b8a3b-d803-4c7a-8c3b-204e93a16c00",
   "metadata": {},
   "outputs": [],
   "source": []
  },
  {
   "cell_type": "code",
   "execution_count": 7,
   "id": "30304b98-456f-4e22-bee2-6b74b915ec22",
   "metadata": {},
   "outputs": [],
   "source": [
    "from vaderSentiment.vaderSentiment import SentimentIntensityAnalyzer as SentimentEN\n",
    "\n",
    "s = SentimentEN()"
   ]
  },
  {
   "cell_type": "code",
   "execution_count": 8,
   "id": "2582d09c-0462-42d7-8628-e24c10ba52f4",
   "metadata": {},
   "outputs": [
    {
     "data": {
      "text/plain": [
       "{'neg': 0.0, 'neu': 0.351, 'pos': 0.649, 'compound': 0.5719}"
      ]
     },
     "execution_count": 8,
     "metadata": {},
     "output_type": "execute_result"
    }
   ],
   "source": [
    "s.polarity_scores(\"I am happy\")"
   ]
  },
  {
   "cell_type": "code",
   "execution_count": 9,
   "id": "9c387464-22df-42b9-bebc-09274552f740",
   "metadata": {},
   "outputs": [
    {
     "data": {
      "text/plain": [
       "{'neg': 0.0, 'neu': 0.23, 'pos': 0.77, 'compound': 0.7717}"
      ]
     },
     "execution_count": 9,
     "metadata": {},
     "output_type": "execute_result"
    }
   ],
   "source": [
    "s.polarity_scores(\"I am happy :)\")"
   ]
  },
  {
   "cell_type": "code",
   "execution_count": 10,
   "id": "edcf92fb-d60a-40c7-93fe-8dd76763279e",
   "metadata": {},
   "outputs": [
    {
     "data": {
      "text/plain": [
       "{'neg': 0.5, 'neu': 0.5, 'pos': 0.0, 'compound': -0.4585}"
      ]
     },
     "execution_count": 10,
     "metadata": {},
     "output_type": "execute_result"
    }
   ],
   "source": [
    "s.polarity_scores(\"I am not happy\")"
   ]
  },
  {
   "cell_type": "code",
   "execution_count": null,
   "id": "6bcab6c0-e006-409e-8b87-59e1299dd3a3",
   "metadata": {},
   "outputs": [],
   "source": []
  }
 ],
 "metadata": {
  "kernelspec": {
   "display_name": "Python 3 (ipykernel)",
   "language": "python",
   "name": "python3"
  },
  "language_info": {
   "codemirror_mode": {
    "name": "ipython",
    "version": 3
   },
   "file_extension": ".py",
   "mimetype": "text/x-python",
   "name": "python",
   "nbconvert_exporter": "python",
   "pygments_lexer": "ipython3",
   "version": "3.8.5"
  }
 },
 "nbformat": 4,
 "nbformat_minor": 5
}
